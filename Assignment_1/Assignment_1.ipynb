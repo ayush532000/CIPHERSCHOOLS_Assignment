{
 "cells": [
  {
   "cell_type": "code",
   "execution_count": 2,
   "metadata": {},
   "outputs": [
    {
     "name": "stdout",
     "output_type": "stream",
     "text": [
      "Enter the number : 4\n",
      "Enter the number : 4\n",
      "Enter the number : 5\n",
      "Enter the number : 6\n",
      "Enter the number : 8\n",
      "Enter the number : 4\n",
      "Enter the number : 5\n",
      "Enter the number : -1\n",
      "List before :  [4, 4, 5, 6, 8, 4, 5]\n",
      "List after : [4, 5, 6, 8]\n"
     ]
    }
   ],
   "source": [
    "#Question 1\n",
    "A = []\n",
    "check = 0\n",
    "while check == 0:\n",
    "    num = int(input(\"Enter the number : \"))\n",
    "    if num == -1:\n",
    "        break;\n",
    "    else :\n",
    "        A = A + [num]\n",
    "print(\"List before : \",A)\n",
    "A = set(A)\n",
    "A = list(A)\n",
    "A.sort()\n",
    "print(\"List after :\",A)"
   ]
  },
  {
   "cell_type": "code",
   "execution_count": 4,
   "metadata": {},
   "outputs": [
    {
     "name": "stdout",
     "output_type": "stream",
     "text": [
      "NOTE : When you are done with the numbers enter -1.\n",
      "Enter the number : 45\n",
      "Enter the number : 12\n",
      "Enter the number : 15\n",
      "Enter the number : 62\n",
      "Enter the number : 48\n",
      "Enter the number : 10\n",
      "Enter the number : 5\n",
      "Enter the number : -1\n",
      "The tuple is :  (45, 12, 15, 62, 48, 10, 5)\n",
      "Length :  7\n",
      "Sum of all elements :  197\n",
      "Largest element :  62\n",
      "Smallest element :  5\n"
     ]
    }
   ],
   "source": [
    "#Question 2\n",
    "A = ()\n",
    "check = 0\n",
    "print(\"NOTE : When you are done with the numbers enter -1.\")\n",
    "while check == 0:\n",
    "    num = int(input(\"Enter the number : \"))\n",
    "    if num == -1:\n",
    "        break;\n",
    "    else :\n",
    "        A = A + (num,)\n",
    "print(\"The tuple is : \" ,A)\n",
    "print(\"Length : \", len(A))\n",
    "print(\"Sum of all elements : \", sum(A))\n",
    "print(\"Largest element : \", max(A))\n",
    "print(\"Smallest element : \",min(A))\n"
   ]
  },
  {
   "cell_type": "code",
   "execution_count": 5,
   "metadata": {},
   "outputs": [
    {
     "name": "stdout",
     "output_type": "stream",
     "text": [
      "Enter the number : 13\n",
      "Enter the bit to be changed: 1\n",
      "15\n"
     ]
    }
   ],
   "source": [
    "#Question 3\n",
    "num = int(input(\"Enter the number : \"))\n",
    "i = int(input(\"Enter the bit to be changed: \"))\n",
    "mn = 1 << i\n",
    "print(mn | num)"
   ]
  },
  {
   "cell_type": "code",
   "execution_count": 6,
   "metadata": {},
   "outputs": [
    {
     "name": "stdout",
     "output_type": "stream",
     "text": [
      "Enter number : 1212\n",
      "0\n"
     ]
    }
   ],
   "source": [
    "#Question 4\n",
    "number_type = [0,1]\n",
    "num = int(input(\"Enter number : \"))\n",
    "print(number_type[num %2])\n"
   ]
  },
  {
   "cell_type": "code",
   "execution_count": 7,
   "metadata": {},
   "outputs": [
    {
     "name": "stdout",
     "output_type": "stream",
     "text": [
      "NOTE : When you are done with the numbers enter -1.\n",
      "Enter 1st list : \n",
      "Enter the number : 12\n",
      "Enter the number : 13\n",
      "Enter the number : 14\n",
      "Enter the number : 15\n",
      "Enter the number : 15\n",
      "Enter the number : -1\n",
      "Enter 2nd list : \n",
      "Enter the number : 20\n",
      "Enter the number : 12\n",
      "Enter the number : 14\n",
      "Enter the number : 15\n",
      "Enter the number : 20\n",
      "Enter the number : -1\n",
      "List A :  [12, 13, 14, 15, 15]\n",
      "List B :  [20, 12, 14, 15, 20]\n",
      "After merging and sorting :  [12, 12, 13, 14, 14, 15, 15, 15, 20, 20]\n"
     ]
    }
   ],
   "source": [
    "#Question 5\n",
    "A = []\n",
    "B = []\n",
    "check = 0\n",
    "print(\"NOTE : When you are done with the numbers enter -1.\")\n",
    "print(\"Enter 1st list : \")\n",
    "while check == 0:\n",
    "    num = int(input(\"Enter the number : \"))\n",
    "    if num == -1:\n",
    "        break;\n",
    "    else :\n",
    "        A = A + [num]\n",
    "print(\"Enter 2nd list : \")\n",
    "while check == 0:\n",
    "    num = int(input(\"Enter the number : \"))\n",
    "    if num == -1:\n",
    "        break;\n",
    "    else :\n",
    "        B = B + [num]\n",
    "        \n",
    "print(\"List A : \",A)\n",
    "print(\"List B : \",B)\n",
    "A.extend(B)\n",
    "A.sort()\n",
    "print(\"After merging and sorting : \",A)\n"
   ]
  },
  {
   "cell_type": "code",
   "execution_count": 1,
   "metadata": {},
   "outputs": [
    {
     "name": "stdout",
     "output_type": "stream",
     "text": [
      "Entered student name and marks are :  {'Berlin': 70, 'Oslo': 0, 'Moscow': 50, 'Nairobi': 100}\n",
      "After sorting :  {'Oslo': 0, 'Moscow': 50, 'Berlin': 70, 'Nairobi': 100}\n"
     ]
    }
   ],
   "source": [
    "#Question 6\n",
    "student = {'Berlin' : 70 , 'Oslo' : 0 , 'Moscow' : 50 , 'Nairobi' : 100}\n",
    "print(\"Entered student name and marks are : \",student)\n",
    "sorted_dict = sorted(student.items() , key = lambda t : t[1])\n",
    "print(\"After sorting : \",dict(sorted_dict))\n"
   ]
  },
  {
   "cell_type": "code",
   "execution_count": null,
   "metadata": {},
   "outputs": [],
   "source": []
  }
 ],
 "metadata": {
  "kernelspec": {
   "display_name": "Python 3",
   "language": "python",
   "name": "python3"
  },
  "language_info": {
   "codemirror_mode": {
    "name": "ipython",
    "version": 3
   },
   "file_extension": ".py",
   "mimetype": "text/x-python",
   "name": "python",
   "nbconvert_exporter": "python",
   "pygments_lexer": "ipython3",
   "version": "3.8.3rc1"
  }
 },
 "nbformat": 4,
 "nbformat_minor": 4
}
